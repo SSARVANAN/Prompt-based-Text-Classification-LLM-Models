{
 "cells": [
  {
   "cell_type": "code",
   "execution_count": 8,
   "id": "9d0908af",
   "metadata": {},
   "outputs": [],
   "source": [
    "!pip install -qq datasets\n",
    "!pip install -qq openai"
   ]
  },
  {
   "cell_type": "markdown",
   "id": "7be86cf7",
   "metadata": {},
   "source": [
    "# Data Preparation"
   ]
  },
  {
   "cell_type": "code",
   "execution_count": 5,
   "id": "d060964d",
   "metadata": {},
   "outputs": [
    {
     "data": {
      "application/vnd.jupyter.widget-view+json": {
       "model_id": "9cfd3e580b87449aae0bc481b63136b4",
       "version_major": 2,
       "version_minor": 0
      },
      "text/plain": [
       "Downloading readme:   0%|          | 0.00/8.07k [00:00<?, ?B/s]"
      ]
     },
     "metadata": {},
     "output_type": "display_data"
    },
    {
     "data": {
      "application/vnd.jupyter.widget-view+json": {
       "model_id": "7c363e2429ae4d14b7fce27fe259bd83",
       "version_major": 2,
       "version_minor": 0
      },
      "text/plain": [
       "Downloading data:   0%|          | 0.00/18.6M [00:00<?, ?B/s]"
      ]
     },
     "metadata": {},
     "output_type": "display_data"
    },
    {
     "data": {
      "application/vnd.jupyter.widget-view+json": {
       "model_id": "5ee0525e7e2544bd8eb5958326639b1b",
       "version_major": 2,
       "version_minor": 0
      },
      "text/plain": [
       "Downloading data:   0%|          | 0.00/1.23M [00:00<?, ?B/s]"
      ]
     },
     "metadata": {},
     "output_type": "display_data"
    },
    {
     "data": {
      "application/vnd.jupyter.widget-view+json": {
       "model_id": "ebd705e2d3be456381a8d04dcad73281",
       "version_major": 2,
       "version_minor": 0
      },
      "text/plain": [
       "Generating train split:   0%|          | 0/120000 [00:00<?, ? examples/s]"
      ]
     },
     "metadata": {},
     "output_type": "display_data"
    },
    {
     "data": {
      "application/vnd.jupyter.widget-view+json": {
       "model_id": "9d9bd3c809e2474fa2928dd97dc54cc0",
       "version_major": 2,
       "version_minor": 0
      },
      "text/plain": [
       "Generating test split:   0%|          | 0/7600 [00:00<?, ? examples/s]"
      ]
     },
     "metadata": {},
     "output_type": "display_data"
    },
    {
     "name": "stdout",
     "output_type": "stream",
     "text": [
      "DatasetDict({\n",
      "    train: Dataset({\n",
      "        features: ['text', 'label'],\n",
      "        num_rows: 120000\n",
      "    })\n",
      "    test: Dataset({\n",
      "        features: ['text', 'label'],\n",
      "        num_rows: 7600\n",
      "    })\n",
      "})\n"
     ]
    }
   ],
   "source": [
    "from datasets import load_dataset\n",
    "import pandas as pd\n",
    "\n",
    "# Load the AG News dataset from the Hugging Face 'datasets' library\n",
    "dataset = load_dataset(\"ag_news\")\n",
    "\n",
    "# Preview the dataset structure\n",
    "print(dataset)"
   ]
  },
  {
   "cell_type": "code",
   "execution_count": 6,
   "id": "ad71a45d",
   "metadata": {},
   "outputs": [],
   "source": [
    "ds = load_dataset(\"fka/awesome-chatgpt-prompts\")# Map the prediction index to the class name (if you have a label map)\n",
    "label_map = {0: \"World\", 1: \"Sports\", 2: \"Business\", 3: \"Sci/Tech\"}"
   ]
  },
  {
   "cell_type": "code",
   "execution_count": 4,
   "id": "17798877",
   "metadata": {},
   "outputs": [
    {
     "name": "stdout",
     "output_type": "stream",
     "text": [
      "DatasetDict({\n",
      "    train: Dataset({\n",
      "        features: ['act', 'prompt'],\n",
      "        num_rows: 153\n",
      "    })\n",
      "})\n"
     ]
    }
   ],
   "source": [
    "import pandas as pd\n",
    "# Preview the dataset structure\n",
    "print(ds)"
   ]
  },
  {
   "cell_type": "markdown",
   "id": "3590d182",
   "metadata": {},
   "source": [
    "# Preparing to Connect to Cloud-based Language Model"
   ]
  },
  {
   "cell_type": "code",
   "execution_count": 9,
   "id": "2b0fc26b",
   "metadata": {},
   "outputs": [],
   "source": [
    "# !!!! NOTE\n",
    "#USE_GENERATED_DATA = False  # <-- use GPT 3.5\n",
    "USE_GENERATED_DATA = True    # <-- use pre-generated texts from GPT 3.5"
   ]
  },
  {
   "cell_type": "markdown",
   "id": "d03ed841",
   "metadata": {},
   "source": [
    "# Implementing the Prompt Constructor"
   ]
  },
  {
   "cell_type": "code",
   "execution_count": 10,
   "id": "f4885520",
   "metadata": {},
   "outputs": [],
   "source": [
    "# Function to add a prompt to the texts\n",
    "def make_topic_cls_prompt(text):\n",
    "    return f\"Task : Topic Classification. Topic-class must be one of the (World, Sports, Business, Sci/Tech). The text is [{text}]. What is topic?\""
   ]
  },
  {
   "cell_type": "code",
   "execution_count": 11,
   "id": "4fe2cd26",
   "metadata": {},
   "outputs": [],
   "source": [
    "def map_generated_to_topic(generated_text):\n",
    "    generated_text = generated_text.lower()\n",
    "    if \"world\" in generated_text:\n",
    "        return \"World\"\n",
    "    elif \"sport\" in generated_text:\n",
    "        return \"Sports\"\n",
    "    elif \"business\" in generated_text:\n",
    "        return \"Business\"\n",
    "    elif \"sci\" in generated_text:\n",
    "        return \"Sci/Tech\"\n",
    "    elif \"technology\" in generated_text:\n",
    "        return \"Sci/Tech\"\n",
    "    else:\n",
    "        return \"Unknown\""
   ]
  },
  {
   "cell_type": "markdown",
   "id": "2b712c1c",
   "metadata": {},
   "source": [
    "# Preparing the GPT 3.5 Language Model\n"
   ]
  },
  {
   "cell_type": "markdown",
   "id": "ba2948a0",
   "metadata": {},
   "source": [
    "Preparing the OpenAI Model"
   ]
  },
  {
   "cell_type": "code",
   "execution_count": 12,
   "id": "9531934b",
   "metadata": {},
   "outputs": [],
   "source": [
    "if USE_GENERATED_DATA == False:\n",
    "  import os\n",
    "  # Replace 'your_openai_api_key' with your actual OpenAI API key\n",
    "  os.environ[\"OPENAI_API_KEY\"] = \"\"  # <--- set your OPENAI API KEY\n",
    "  # -----\n",
    "  from openai import OpenAI\n",
    "  client = OpenAI()\n",
    "  import json\n",
    "  def query_to_gpt(text):\n",
    "      response = client.chat.completions.create(\n",
    "        model=\"gpt-3.5-turbo\",\n",
    "        messages=[\n",
    "          {\"role\": \"user\", \"content\": f\"{text}\"}\n",
    "        ]\n",
    "      )\n",
    "      return response.choices[0].message. Content\n",
    "  # ---\n",
    "  sample_text = \"Wall St. Bears Claw Back Into the Black (Reuters) Reuters - Short-sellers, Wall Street's dwindling\\band of ultra-cynics, are seeing green again.\"\n",
    "  # Query GPT-3.5\n",
    "  prompt = make_topic_cls_prompt(sample_text)\n",
    "  generated_text = query_to_gpt(prompt)\n",
    "  print(\"Generated text:\", generated_text)\n",
    "  # Prediction with generated text\n",
    "  #    : Map the generated text to a topic\n",
    "  predicted_topic = map_generated_to_topic(generated_text)\n",
    "  print(f\"Predicted Topic: {predicted_topic}\")"
   ]
  },
  {
   "cell_type": "markdown",
   "id": "907e6c34",
   "metadata": {},
   "source": [
    "# Performing Classification on Evaluation Data"
   ]
  },
  {
   "cell_type": "code",
   "execution_count": 13,
   "id": "e8448259",
   "metadata": {},
   "outputs": [
    {
     "name": "stdout",
     "output_type": "stream",
     "text": [
      "[Download] dataset download\n",
      "Dataset loaded and converted to Hugging Face dataset format.\n"
     ]
    }
   ],
   "source": [
    "import requests\n",
    "from datasets import Dataset\n",
    "\n",
    "if USE_GENERATED_DATA == True:\n",
    "  print(\"[Download] dataset download\")\n",
    "  url = 'https://www.dropbox.com/scl/fi/n7wappv0dbh6jta6ghfon/subset_dataset.json?rlkey=0lcqfndfcndn6vfsudthbrmmm&st=nli9kv1s&dl=1'\n",
    "  # Download the file content\n",
    "  response = requests.get(url)\n",
    "  response.raise_for_status()  # Ensure the request was successful\n",
    "  dataset_json = response.json()  # Convert the response to JSON\n",
    "  # Convert JSON data to DataFrame\n",
    "  df = pd.DataFrame(dataset_json)\n",
    "  # Convert DataFrame to Hugging Face dataset\n",
    "  subset_test_dataset = Dataset.from_pandas(df)\n",
    "  print(\"Dataset loaded and converted to Hugging Face dataset format.\")\n",
    "else:\n",
    "  subset_test_dataset = dataset['test'].select( range(100) ) # sample 100\n",
    "  subset_test_dataset = subset_test_dataset.add_column(\"generated_text\", ['']*len(subset_test_dataset))"
   ]
  },
  {
   "cell_type": "code",
   "execution_count": 14,
   "id": "3a9c1b3b",
   "metadata": {},
   "outputs": [
    {
     "data": {
      "text/plain": [
       "Dataset({\n",
       "    features: ['text', 'label', 'generated_text', '__index_level_0__'],\n",
       "    num_rows: 100\n",
       "})"
      ]
     },
     "execution_count": 14,
     "metadata": {},
     "output_type": "execute_result"
    }
   ],
   "source": [
    "subset_test_dataset"
   ]
  },
  {
   "cell_type": "code",
   "execution_count": 15,
   "id": "1fc109f5",
   "metadata": {},
   "outputs": [
    {
     "data": {
      "text/plain": [
       "['Business',\n",
       " 'The topic is Sci/Tech.',\n",
       " 'The topic of the text is Sci/Tech.',\n",
       " 'The topic of the text is Sci/Tech, as it discusses the use of a prediction unit to forecast wildfires.',\n",
       " 'The topic of the text is \"Sci/Tech\" (Science/Technology) as it discusses Southern California\\'s efforts to reduce air pollution from dairy cow manure.']"
      ]
     },
     "execution_count": 15,
     "metadata": {},
     "output_type": "execute_result"
    }
   ],
   "source": [
    "subset_test_dataset['generated_text'][:5]"
   ]
  },
  {
   "cell_type": "code",
   "execution_count": 16,
   "id": "d21b7f4c",
   "metadata": {},
   "outputs": [
    {
     "data": {
      "text/plain": [
       "['Business',\n",
       " 'The topic is Sci/Tech.',\n",
       " 'The topic of the text is Sci/Tech.',\n",
       " 'The topic of the text is Sci/Tech, as it discusses the use of a prediction unit to forecast wildfires.',\n",
       " 'The topic of the text is \"Sci/Tech\" (Science/Technology) as it discusses Southern California\\'s efforts to reduce air pollution from dairy cow manure.']"
      ]
     },
     "execution_count": 16,
     "metadata": {},
     "output_type": "execute_result"
    }
   ],
   "source": [
    "['Business',\n",
    " 'The topic is Sci/Tech.',\n",
    " 'The topic of the text is Sci/Tech.',\n",
    " 'The topic of the text is Sci/Tech, as it discusses the use of a prediction unit to forecast wildfires.',\n",
    " 'The topic of the text is \"Sci/Tech\" (Science/Technology) as it discusses Southern California\\'s efforts to reduce air pollution from dairy cow manure.']"
   ]
  },
  {
   "cell_type": "code",
   "execution_count": 17,
   "id": "d28efc0e",
   "metadata": {},
   "outputs": [
    {
     "name": "stderr",
     "output_type": "stream",
     "text": [
      "100it [00:00, 71906.46it/s]\n"
     ]
    },
    {
     "data": {
      "text/html": [
       "<div>\n",
       "<style scoped>\n",
       "    .dataframe tbody tr th:only-of-type {\n",
       "        vertical-align: middle;\n",
       "    }\n",
       "\n",
       "    .dataframe tbody tr th {\n",
       "        vertical-align: top;\n",
       "    }\n",
       "\n",
       "    .dataframe thead th {\n",
       "        text-align: right;\n",
       "    }\n",
       "</style>\n",
       "<table border=\"1\" class=\"dataframe\">\n",
       "  <thead>\n",
       "    <tr style=\"text-align: right;\">\n",
       "      <th></th>\n",
       "      <th>text</th>\n",
       "      <th>pred_label</th>\n",
       "      <th>ref_label</th>\n",
       "      <th>llm_answer</th>\n",
       "    </tr>\n",
       "  </thead>\n",
       "  <tbody>\n",
       "    <tr>\n",
       "      <th>0</th>\n",
       "      <td>Fears for T N pension after talks Unions repre...</td>\n",
       "      <td>Business</td>\n",
       "      <td>Business</td>\n",
       "      <td>Business</td>\n",
       "    </tr>\n",
       "    <tr>\n",
       "      <th>1</th>\n",
       "      <td>The Race is On: Second Private Team Sets Launc...</td>\n",
       "      <td>Sci/Tech</td>\n",
       "      <td>Sci/Tech</td>\n",
       "      <td>The topic is Sci/Tech.</td>\n",
       "    </tr>\n",
       "    <tr>\n",
       "      <th>2</th>\n",
       "      <td>Ky. Company Wins Grant to Study Peptides (AP) ...</td>\n",
       "      <td>Sci/Tech</td>\n",
       "      <td>Sci/Tech</td>\n",
       "      <td>The topic of the text is Sci/Tech.</td>\n",
       "    </tr>\n",
       "    <tr>\n",
       "      <th>3</th>\n",
       "      <td>Prediction Unit Helps Forecast Wildfires (AP) ...</td>\n",
       "      <td>Sci/Tech</td>\n",
       "      <td>Sci/Tech</td>\n",
       "      <td>The topic of the text is Sci/Tech, as it discu...</td>\n",
       "    </tr>\n",
       "    <tr>\n",
       "      <th>4</th>\n",
       "      <td>Calif. Aims to Limit Farm-Related Smog (AP) AP...</td>\n",
       "      <td>Sci/Tech</td>\n",
       "      <td>Sci/Tech</td>\n",
       "      <td>The topic of the text is \"Sci/Tech\" (Science/T...</td>\n",
       "    </tr>\n",
       "    <tr>\n",
       "      <th>...</th>\n",
       "      <td>...</td>\n",
       "      <td>...</td>\n",
       "      <td>...</td>\n",
       "      <td>...</td>\n",
       "    </tr>\n",
       "    <tr>\n",
       "      <th>95</th>\n",
       "      <td>Eriksson doesn #39;t feel any extra pressure f...</td>\n",
       "      <td>Sports</td>\n",
       "      <td>Sports</td>\n",
       "      <td>The topic of the text is Sports.</td>\n",
       "    </tr>\n",
       "    <tr>\n",
       "      <th>96</th>\n",
       "      <td>Injured Heskey to miss England friendly NEWCAS...</td>\n",
       "      <td>Sports</td>\n",
       "      <td>Sports</td>\n",
       "      <td>Sports</td>\n",
       "    </tr>\n",
       "    <tr>\n",
       "      <th>97</th>\n",
       "      <td>Staples Profit Up, to Enter China Market  NEW ...</td>\n",
       "      <td>Business</td>\n",
       "      <td>Business</td>\n",
       "      <td>Business</td>\n",
       "    </tr>\n",
       "    <tr>\n",
       "      <th>98</th>\n",
       "      <td>Delegation Is Delayed Before Reaching Najaf AG...</td>\n",
       "      <td>World</td>\n",
       "      <td>World</td>\n",
       "      <td>The topic is World.</td>\n",
       "    </tr>\n",
       "    <tr>\n",
       "      <th>99</th>\n",
       "      <td>Consumer Prices Down, Industry Output Up  WASH...</td>\n",
       "      <td>Business</td>\n",
       "      <td>Business</td>\n",
       "      <td>The topic of the text is Business, as it discu...</td>\n",
       "    </tr>\n",
       "  </tbody>\n",
       "</table>\n",
       "<p>100 rows × 4 columns</p>\n",
       "</div>"
      ],
      "text/plain": [
       "                                                 text pred_label ref_label  \\\n",
       "0   Fears for T N pension after talks Unions repre...   Business  Business   \n",
       "1   The Race is On: Second Private Team Sets Launc...   Sci/Tech  Sci/Tech   \n",
       "2   Ky. Company Wins Grant to Study Peptides (AP) ...   Sci/Tech  Sci/Tech   \n",
       "3   Prediction Unit Helps Forecast Wildfires (AP) ...   Sci/Tech  Sci/Tech   \n",
       "4   Calif. Aims to Limit Farm-Related Smog (AP) AP...   Sci/Tech  Sci/Tech   \n",
       "..                                                ...        ...       ...   \n",
       "95  Eriksson doesn #39;t feel any extra pressure f...     Sports    Sports   \n",
       "96  Injured Heskey to miss England friendly NEWCAS...     Sports    Sports   \n",
       "97  Staples Profit Up, to Enter China Market  NEW ...   Business  Business   \n",
       "98  Delegation Is Delayed Before Reaching Najaf AG...      World     World   \n",
       "99  Consumer Prices Down, Industry Output Up  WASH...   Business  Business   \n",
       "\n",
       "                                           llm_answer  \n",
       "0                                            Business  \n",
       "1                              The topic is Sci/Tech.  \n",
       "2                  The topic of the text is Sci/Tech.  \n",
       "3   The topic of the text is Sci/Tech, as it discu...  \n",
       "4   The topic of the text is \"Sci/Tech\" (Science/T...  \n",
       "..                                                ...  \n",
       "95                   The topic of the text is Sports.  \n",
       "96                                             Sports  \n",
       "97                                           Business  \n",
       "98                                The topic is World.  \n",
       "99  The topic of the text is Business, as it discu...  \n",
       "\n",
       "[100 rows x 4 columns]"
      ]
     },
     "execution_count": 17,
     "metadata": {},
     "output_type": "execute_result"
    }
   ],
   "source": [
    "import pandas as pd\n",
    "from tqdm import tqdm\n",
    "data = {'text':[], 'pred_label':[], 'ref_label':[], 'llm_answer':[]}\n",
    "\n",
    "for text, ref_label, _gen in tqdm(zip(subset_test_dataset['text'],\n",
    "                                      subset_test_dataset['label'],\n",
    "                                      subset_test_dataset['generated_text']\n",
    "                                      )):\n",
    "    prompt = make_topic_cls_prompt(text)\n",
    "    generated_text = _gen if USE_GENERATED_DATA else query_to_gpt(prompt)\n",
    "    predicted_label = map_generated_to_topic(generated_text)\n",
    "    data['text'].append(text)\n",
    "    data['pred_label'].append(predicted_label)\n",
    "    data['ref_label'].append(label_map[ref_label])\n",
    "    data['llm_answer'].append(generated_text)\n",
    "result_df = pd.DataFrame(data)\n",
    "result_df"
   ]
  },
  {
   "cell_type": "code",
   "execution_count": 18,
   "id": "29395270",
   "metadata": {},
   "outputs": [
    {
     "data": {
      "text/plain": [
       "{'Business', 'Sci/Tech', 'Sports', 'Unknown', 'World'}"
      ]
     },
     "execution_count": 18,
     "metadata": {},
     "output_type": "execute_result"
    }
   ],
   "source": [
    "set( result_df.pred_label.values )"
   ]
  },
  {
   "cell_type": "code",
   "execution_count": 20,
   "id": "ef7cb9ac",
   "metadata": {},
   "outputs": [
    {
     "name": "stdout",
     "output_type": "stream",
     "text": [
      "[]\n"
     ]
    }
   ],
   "source": [
    "# Filtering the DataFrame where pred_label is 'Unknown'\n",
    "filtered_df = result_df[result_df.pred_label == 'Unknown']\n",
    "\n",
    "# Extracting unique llm_answer values that are in the specified set\n",
    "filtered_answers = filtered_df.llm_answer[filtered_df.llm_answer.isin({'Business', 'Sci/Tech', 'Sports', 'Unknown', 'World'})].unique()\n",
    "\n",
    "# Displaying the unique values\n",
    "print(filtered_answers)\n"
   ]
  },
  {
   "cell_type": "code",
   "execution_count": 23,
   "id": "bbe52090",
   "metadata": {},
   "outputs": [],
   "source": [
    "# Assign 'World' class to 'Unknown' classes\n",
    "result_df.loc[result_df.pred_label == 'Unknown', 'pred_label'] = 'World'"
   ]
  },
  {
   "cell_type": "code",
   "execution_count": 24,
   "id": "1926a55c",
   "metadata": {},
   "outputs": [
    {
     "data": {
      "text/html": [
       "<div>\n",
       "<style scoped>\n",
       "    .dataframe tbody tr th:only-of-type {\n",
       "        vertical-align: middle;\n",
       "    }\n",
       "\n",
       "    .dataframe tbody tr th {\n",
       "        vertical-align: top;\n",
       "    }\n",
       "\n",
       "    .dataframe thead th {\n",
       "        text-align: right;\n",
       "    }\n",
       "</style>\n",
       "<table border=\"1\" class=\"dataframe\">\n",
       "  <thead>\n",
       "    <tr style=\"text-align: right;\">\n",
       "      <th></th>\n",
       "      <th>0</th>\n",
       "      <th>1</th>\n",
       "      <th>2</th>\n",
       "      <th>3</th>\n",
       "    </tr>\n",
       "  </thead>\n",
       "  <tbody>\n",
       "    <tr>\n",
       "      <th>Metric</th>\n",
       "      <td>Accuracy</td>\n",
       "      <td>Precision</td>\n",
       "      <td>Recall</td>\n",
       "      <td>F1-score</td>\n",
       "    </tr>\n",
       "    <tr>\n",
       "      <th>Value</th>\n",
       "      <td>0.79</td>\n",
       "      <td>0.875013</td>\n",
       "      <td>0.79</td>\n",
       "      <td>0.802883</td>\n",
       "    </tr>\n",
       "  </tbody>\n",
       "</table>\n",
       "</div>"
      ],
      "text/plain": [
       "               0          1       2         3\n",
       "Metric  Accuracy  Precision  Recall  F1-score\n",
       "Value       0.79   0.875013    0.79  0.802883"
      ]
     },
     "execution_count": 24,
     "metadata": {},
     "output_type": "execute_result"
    }
   ],
   "source": [
    "# import pandas as pd\n",
    "from sklearn.metrics import accuracy_score, precision_recall_fscore_support, confusion_matrix\n",
    "import seaborn as sns\n",
    "import matplotlib.pyplot as plt\n",
    "\n",
    "import pandas as pd\n",
    "from sklearn.metrics import accuracy_score, precision_recall_fscore_support, confusion_matrix\n",
    "\n",
    "# Assuming result_df is your DataFrame and it's already defined\n",
    "# Calculate metrics\n",
    "accuracy = accuracy_score(result_df['ref_label'], result_df['pred_label'])\n",
    "precision, recall, f1, _ = precision_recall_fscore_support(result_df['ref_label'], result_df['pred_label'], average='weighted')\n",
    "# Create a DataFrame to display metrics\n",
    "metrics_df = pd.DataFrame({\n",
    "    'Metric': ['Accuracy', 'Precision', 'Recall', 'F1-score'],\n",
    "    'Value': [accuracy, precision, recall, f1]\n",
    "})\n",
    "metrics_df.T"
   ]
  },
  {
   "cell_type": "code",
   "execution_count": 25,
   "id": "97dd5e22",
   "metadata": {},
   "outputs": [
    {
     "data": {
      "image/png": "[encoded data removed]",
      "text/plain": [
       "<Figure size 1000x800 with 2 Axes>"
      ]
     },
     "metadata": {},
     "output_type": "display_data"
    }
   ],
   "source": [
    "import matplotlib.pyplot as plt\n",
    "import seaborn as sns\n",
    "from sklearn.metrics import confusion_matrix\n",
    "\n",
    "# Generate the confusion matrix\n",
    "cm = confusion_matrix(result_df['ref_label'], result_df['pred_label'])\n",
    "# Get sorted unique labels\n",
    "labels = sorted(result_df['ref_label'].unique())\n",
    "# Plot the confusion matrix\n",
    "plt.figure(figsize=(10, 8))\n",
    "sns.heatmap(cm, annot=True, fmt='d', cmap='Blues', xticklabels=labels, yticklabels=labels)\n",
    "plt.xlabel('Predicted Labels')\n",
    "plt.ylabel('True Labels')\n",
    "plt.title('Confusion Matrix')\n",
    "plt.show()"
   ]
  },
  {
   "cell_type": "code",
   "execution_count": null,
   "id": "08b4c5d3",
   "metadata": {},
   "outputs": [],
   "source": []
  }
 ],
 "metadata": {
  "kernelspec": {
   "display_name": "Python 3 (ipykernel)",
   "language": "python",
   "name": "python3"
  },
  "language_info": {
   "codemirror_mode": {
    "name": "ipython",
    "version": 3
   },
   "file_extension": ".py",
   "mimetype": "text/x-python",
   "name": "python",
   "nbconvert_exporter": "python",
   "pygments_lexer": "ipython3",
   "version": "3.11.7"
  }
 },
 "nbformat": 4,
 "nbformat_minor": 5
}
